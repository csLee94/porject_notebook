{
  "nbformat": 4,
  "nbformat_minor": 0,
  "metadata": {
    "colab": {
      "name": "SalesPredict_N.ipynb",
      "provenance": [],
      "collapsed_sections": [],
      "toc_visible": true,
      "authorship_tag": "ABX9TyPJOUUnb4t98WXFv9LtrlV6"
    },
    "kernelspec": {
      "name": "python3",
      "display_name": "Python 3"
    }
  },
  "cells": [
    {
      "cell_type": "markdown",
      "metadata": {
        "id": "86UAs-1_fNdo"
      },
      "source": [
        "# Import Library"
      ]
    },
    {
      "cell_type": "code",
      "metadata": {
        "colab": {
          "base_uri": "https://localhost:8080/"
        },
        "id": "CPFCLLppfWhy",
        "outputId": "9ecaa7e3-0b11-474f-f93e-7fa9f1f769ca"
      },
      "source": [
        "# Google drive mount\r\n",
        "from google.colab import drive\r\n",
        "drive.mount('/content/drive')"
      ],
      "execution_count": 1,
      "outputs": [
        {
          "output_type": "stream",
          "text": [
            "Mounted at /content/drive\n"
          ],
          "name": "stdout"
        }
      ]
    },
    {
      "cell_type": "code",
      "metadata": {
        "id": "Un4hSCsFfrki"
      },
      "source": [
        "import pandas as pd\r\n",
        "import numpy as np \r\n",
        "#\r\n",
        "from matplotlib import pyplot as plt\r\n",
        "import seaborn as sns"
      ],
      "execution_count": 31,
      "outputs": []
    },
    {
      "cell_type": "code",
      "metadata": {
        "id": "Yowo6fXOffuQ"
      },
      "source": [
        "df = pd.read_excel('/content/drive/MyDrive/Data/SalesData.xlsx')"
      ],
      "execution_count": 3,
      "outputs": []
    },
    {
      "cell_type": "code",
      "metadata": {
        "colab": {
          "base_uri": "https://localhost:8080/",
          "height": 419
        },
        "id": "0VjzLFb7f3LA",
        "outputId": "e57778db-f32c-44cd-85e8-d69e5d47b527"
      },
      "source": [
        "# DataSet의 Columns Name 변경\r\n",
        "df.columns = ['Date', 'Sales', 'NetSales', 'Amount', 'MeanSales', 'DiscountRate', 'Stores', 'SKU']\r\n",
        "# DataFrame 출력 format 설정_ 과학적 표기법 사용X\r\n",
        "pd.options.display.float_format = '{:.2f}'.format\r\n",
        "df"
      ],
      "execution_count": 14,
      "outputs": [
        {
          "output_type": "execute_result",
          "data": {
            "text/html": [
              "<div>\n",
              "<style scoped>\n",
              "    .dataframe tbody tr th:only-of-type {\n",
              "        vertical-align: middle;\n",
              "    }\n",
              "\n",
              "    .dataframe tbody tr th {\n",
              "        vertical-align: top;\n",
              "    }\n",
              "\n",
              "    .dataframe thead th {\n",
              "        text-align: right;\n",
              "    }\n",
              "</style>\n",
              "<table border=\"1\" class=\"dataframe\">\n",
              "  <thead>\n",
              "    <tr style=\"text-align: right;\">\n",
              "      <th></th>\n",
              "      <th>Date</th>\n",
              "      <th>Sales</th>\n",
              "      <th>NetSales</th>\n",
              "      <th>Amount</th>\n",
              "      <th>MeanSales</th>\n",
              "      <th>DiscountRate</th>\n",
              "      <th>Stores</th>\n",
              "      <th>SKU</th>\n",
              "    </tr>\n",
              "  </thead>\n",
              "  <tbody>\n",
              "    <tr>\n",
              "      <th>0</th>\n",
              "      <td>2017-06-01</td>\n",
              "      <td>2502000</td>\n",
              "      <td>2383400</td>\n",
              "      <td>18</td>\n",
              "      <td>139000.00</td>\n",
              "      <td>0.05</td>\n",
              "      <td>48</td>\n",
              "      <td>4</td>\n",
              "    </tr>\n",
              "    <tr>\n",
              "      <th>1</th>\n",
              "      <td>2017-06-02</td>\n",
              "      <td>6086000</td>\n",
              "      <td>5984800</td>\n",
              "      <td>45</td>\n",
              "      <td>135244.44</td>\n",
              "      <td>0.02</td>\n",
              "      <td>48</td>\n",
              "      <td>8</td>\n",
              "    </tr>\n",
              "    <tr>\n",
              "      <th>2</th>\n",
              "      <td>2017-06-03</td>\n",
              "      <td>12778000</td>\n",
              "      <td>12510600</td>\n",
              "      <td>92</td>\n",
              "      <td>138891.30</td>\n",
              "      <td>0.02</td>\n",
              "      <td>48</td>\n",
              "      <td>8</td>\n",
              "    </tr>\n",
              "    <tr>\n",
              "      <th>3</th>\n",
              "      <td>2017-06-04</td>\n",
              "      <td>10842000</td>\n",
              "      <td>10631400</td>\n",
              "      <td>78</td>\n",
              "      <td>139000.00</td>\n",
              "      <td>0.02</td>\n",
              "      <td>48</td>\n",
              "      <td>7</td>\n",
              "    </tr>\n",
              "    <tr>\n",
              "      <th>4</th>\n",
              "      <td>2017-06-05</td>\n",
              "      <td>5560000</td>\n",
              "      <td>5522100</td>\n",
              "      <td>41</td>\n",
              "      <td>135609.76</td>\n",
              "      <td>0.01</td>\n",
              "      <td>48</td>\n",
              "      <td>7</td>\n",
              "    </tr>\n",
              "    <tr>\n",
              "      <th>...</th>\n",
              "      <td>...</td>\n",
              "      <td>...</td>\n",
              "      <td>...</td>\n",
              "      <td>...</td>\n",
              "      <td>...</td>\n",
              "      <td>...</td>\n",
              "      <td>...</td>\n",
              "      <td>...</td>\n",
              "    </tr>\n",
              "    <tr>\n",
              "      <th>939</th>\n",
              "      <td>2019-12-27</td>\n",
              "      <td>3755000</td>\n",
              "      <td>3432600</td>\n",
              "      <td>25</td>\n",
              "      <td>150200.00</td>\n",
              "      <td>0.09</td>\n",
              "      <td>42</td>\n",
              "      <td>13</td>\n",
              "    </tr>\n",
              "    <tr>\n",
              "      <th>940</th>\n",
              "      <td>2019-12-28</td>\n",
              "      <td>7799000</td>\n",
              "      <td>7174700</td>\n",
              "      <td>52</td>\n",
              "      <td>149980.77</td>\n",
              "      <td>0.08</td>\n",
              "      <td>42</td>\n",
              "      <td>17</td>\n",
              "    </tr>\n",
              "    <tr>\n",
              "      <th>941</th>\n",
              "      <td>2019-12-29</td>\n",
              "      <td>11227900</td>\n",
              "      <td>10488900</td>\n",
              "      <td>75</td>\n",
              "      <td>149705.33</td>\n",
              "      <td>0.07</td>\n",
              "      <td>42</td>\n",
              "      <td>19</td>\n",
              "    </tr>\n",
              "    <tr>\n",
              "      <th>942</th>\n",
              "      <td>2019-12-30</td>\n",
              "      <td>5672000</td>\n",
              "      <td>5313000</td>\n",
              "      <td>38</td>\n",
              "      <td>149263.16</td>\n",
              "      <td>0.06</td>\n",
              "      <td>42</td>\n",
              "      <td>16</td>\n",
              "    </tr>\n",
              "    <tr>\n",
              "      <th>943</th>\n",
              "      <td>2019-12-31</td>\n",
              "      <td>6846000</td>\n",
              "      <td>6307600</td>\n",
              "      <td>44</td>\n",
              "      <td>155590.91</td>\n",
              "      <td>0.08</td>\n",
              "      <td>42</td>\n",
              "      <td>17</td>\n",
              "    </tr>\n",
              "  </tbody>\n",
              "</table>\n",
              "<p>944 rows × 8 columns</p>\n",
              "</div>"
            ],
            "text/plain": [
              "          Date     Sales  NetSales  ...  DiscountRate  Stores  SKU\n",
              "0   2017-06-01   2502000   2383400  ...          0.05      48    4\n",
              "1   2017-06-02   6086000   5984800  ...          0.02      48    8\n",
              "2   2017-06-03  12778000  12510600  ...          0.02      48    8\n",
              "3   2017-06-04  10842000  10631400  ...          0.02      48    7\n",
              "4   2017-06-05   5560000   5522100  ...          0.01      48    7\n",
              "..         ...       ...       ...  ...           ...     ...  ...\n",
              "939 2019-12-27   3755000   3432600  ...          0.09      42   13\n",
              "940 2019-12-28   7799000   7174700  ...          0.08      42   17\n",
              "941 2019-12-29  11227900  10488900  ...          0.07      42   19\n",
              "942 2019-12-30   5672000   5313000  ...          0.06      42   16\n",
              "943 2019-12-31   6846000   6307600  ...          0.08      42   17\n",
              "\n",
              "[944 rows x 8 columns]"
            ]
          },
          "metadata": {
            "tags": []
          },
          "execution_count": 14
        }
      ]
    },
    {
      "cell_type": "code",
      "metadata": {
        "id": "t8806ke9A-lb"
      },
      "source": [
        "#Date column YY-MM-DD 분할 Column 생성\r\n",
        "df['YY'] = 'temp'\r\n",
        "df['MM'] = 'temp'\r\n",
        "df['DD'] = 'temp'\r\n",
        "for i in range(len(df)):\r\n",
        "  tstr = df.iloc[i]['Date']\r\n",
        "  [yy, mm, dd] = str(tstr).split(\"-\")\r\n",
        "  dd = dd.split(\" \")[0]\r\n",
        "  df['YY'].iloc[i] = yy\r\n",
        "  df['MM'].iloc[i] = mm\r\n",
        "  df['DD'].iloc[i] = dd\r\n",
        "\r\n",
        "df = df[['Date', 'YY', 'MM', 'DD', 'Sales', 'NetSales', 'Amount', 'MeanSales', 'DiscountRate', 'Stores', 'SKU']]\r\n",
        "df"
      ],
      "execution_count": null,
      "outputs": []
    },
    {
      "cell_type": "markdown",
      "metadata": {
        "id": "MGRWlhUJhACr"
      },
      "source": [
        "# 2021-01-18 \r\n"
      ]
    },
    {
      "cell_type": "markdown",
      "metadata": {
        "id": "lFO3Nc-JhOVL"
      },
      "source": [
        "## Dataset 속성 파악"
      ]
    },
    {
      "cell_type": "markdown",
      "metadata": {
        "id": "ihLAmoCO1JcT"
      },
      "source": [
        "### 기술통계"
      ]
    },
    {
      "cell_type": "code",
      "metadata": {
        "colab": {
          "base_uri": "https://localhost:8080/",
          "height": 297
        },
        "id": "LZaBh-YGhSlS",
        "outputId": "a9130aa3-40b0-43c4-e0d1-1ba2307ba4b5"
      },
      "source": [
        "df.describe()"
      ],
      "execution_count": 15,
      "outputs": [
        {
          "output_type": "execute_result",
          "data": {
            "text/html": [
              "<div>\n",
              "<style scoped>\n",
              "    .dataframe tbody tr th:only-of-type {\n",
              "        vertical-align: middle;\n",
              "    }\n",
              "\n",
              "    .dataframe tbody tr th {\n",
              "        vertical-align: top;\n",
              "    }\n",
              "\n",
              "    .dataframe thead th {\n",
              "        text-align: right;\n",
              "    }\n",
              "</style>\n",
              "<table border=\"1\" class=\"dataframe\">\n",
              "  <thead>\n",
              "    <tr style=\"text-align: right;\">\n",
              "      <th></th>\n",
              "      <th>Sales</th>\n",
              "      <th>NetSales</th>\n",
              "      <th>Amount</th>\n",
              "      <th>MeanSales</th>\n",
              "      <th>DiscountRate</th>\n",
              "      <th>Stores</th>\n",
              "      <th>SKU</th>\n",
              "    </tr>\n",
              "  </thead>\n",
              "  <tbody>\n",
              "    <tr>\n",
              "      <th>count</th>\n",
              "      <td>944.00</td>\n",
              "      <td>944.00</td>\n",
              "      <td>944.00</td>\n",
              "      <td>944.00</td>\n",
              "      <td>944.00</td>\n",
              "      <td>944.00</td>\n",
              "      <td>944.00</td>\n",
              "    </tr>\n",
              "    <tr>\n",
              "      <th>mean</th>\n",
              "      <td>8407918.43</td>\n",
              "      <td>7658885.36</td>\n",
              "      <td>57.44</td>\n",
              "      <td>147049.30</td>\n",
              "      <td>0.09</td>\n",
              "      <td>45.87</td>\n",
              "      <td>13.03</td>\n",
              "    </tr>\n",
              "    <tr>\n",
              "      <th>std</th>\n",
              "      <td>4959462.28</td>\n",
              "      <td>4504263.47</td>\n",
              "      <td>34.17</td>\n",
              "      <td>9739.52</td>\n",
              "      <td>0.08</td>\n",
              "      <td>5.94</td>\n",
              "      <td>4.42</td>\n",
              "    </tr>\n",
              "    <tr>\n",
              "      <th>min</th>\n",
              "      <td>219000.00</td>\n",
              "      <td>163400.00</td>\n",
              "      <td>1.00</td>\n",
              "      <td>124250.00</td>\n",
              "      <td>0.00</td>\n",
              "      <td>28.00</td>\n",
              "      <td>2.00</td>\n",
              "    </tr>\n",
              "    <tr>\n",
              "      <th>25%</th>\n",
              "      <td>4998750.00</td>\n",
              "      <td>4525550.00</td>\n",
              "      <td>34.00</td>\n",
              "      <td>139000.00</td>\n",
              "      <td>0.04</td>\n",
              "      <td>45.00</td>\n",
              "      <td>10.00</td>\n",
              "    </tr>\n",
              "    <tr>\n",
              "      <th>50%</th>\n",
              "      <td>7057500.00</td>\n",
              "      <td>6462550.00</td>\n",
              "      <td>48.00</td>\n",
              "      <td>144814.89</td>\n",
              "      <td>0.07</td>\n",
              "      <td>46.00</td>\n",
              "      <td>13.00</td>\n",
              "    </tr>\n",
              "    <tr>\n",
              "      <th>75%</th>\n",
              "      <td>10891250.00</td>\n",
              "      <td>10195725.00</td>\n",
              "      <td>75.00</td>\n",
              "      <td>152967.27</td>\n",
              "      <td>0.13</td>\n",
              "      <td>49.00</td>\n",
              "      <td>16.00</td>\n",
              "    </tr>\n",
              "    <tr>\n",
              "      <th>max</th>\n",
              "      <td>37391000.00</td>\n",
              "      <td>25800000.00</td>\n",
              "      <td>269.00</td>\n",
              "      <td>219000.00</td>\n",
              "      <td>0.65</td>\n",
              "      <td>56.00</td>\n",
              "      <td>30.00</td>\n",
              "    </tr>\n",
              "  </tbody>\n",
              "</table>\n",
              "</div>"
            ],
            "text/plain": [
              "            Sales    NetSales  Amount  MeanSales  DiscountRate  Stores    SKU\n",
              "count      944.00      944.00  944.00     944.00        944.00  944.00 944.00\n",
              "mean   8407918.43  7658885.36   57.44  147049.30          0.09   45.87  13.03\n",
              "std    4959462.28  4504263.47   34.17    9739.52          0.08    5.94   4.42\n",
              "min     219000.00   163400.00    1.00  124250.00          0.00   28.00   2.00\n",
              "25%    4998750.00  4525550.00   34.00  139000.00          0.04   45.00  10.00\n",
              "50%    7057500.00  6462550.00   48.00  144814.89          0.07   46.00  13.00\n",
              "75%   10891250.00 10195725.00   75.00  152967.27          0.13   49.00  16.00\n",
              "max   37391000.00 25800000.00  269.00  219000.00          0.65   56.00  30.00"
            ]
          },
          "metadata": {
            "tags": []
          },
          "execution_count": 15
        }
      ]
    },
    {
      "cell_type": "code",
      "metadata": {
        "colab": {
          "base_uri": "https://localhost:8080/",
          "height": 1000
        },
        "id": "af_msuu0hSqy",
        "outputId": "75715069-669b-42bd-8fed-78b08e642b83"
      },
      "source": [
        "for tempcol in list(df.columns)[1:]:\r\n",
        "  subplot()\r\n",
        "  ns.boxplot(data=df, x=tempcol)\r\n",
        "  plt.show()"
      ],
      "execution_count": 36,
      "outputs": [
        {
          "output_type": "display_data",
          "data": {
            "image/png": "[encoded data removed]",
            "text/plain": [
              "<Figure size 432x288 with 1 Axes>"
            ]
          },
          "metadata": {
            "tags": [],
            "needs_background": "light"
          }
        },
        {
          "output_type": "display_data",
          "data": {
            "image/png": "[encoded data removed]",
            "text/plain": [
              "<Figure size 432x288 with 1 Axes>"
            ]
          },
          "metadata": {
            "tags": [],
            "needs_background": "light"
          }
        },
        {
          "output_type": "display_data",
          "data": {
            "image/png": "[encoded data removed]",
            "text/plain": [
              "<Figure size 432x288 with 1 Axes>"
            ]
          },
          "metadata": {
            "tags": [],
            "needs_background": "light"
          }
        },
        {
          "output_type": "display_data",
          "data": {
            "image/png": "[encoded data removed]",
            "text/plain": [
              "<Figure size 432x288 with 1 Axes>"
            ]
          },
          "metadata": {
            "tags": [],
            "needs_background": "light"
          }
        },
        {
          "output_type": "display_data",
          "data": {
            "image/png": "[encoded data removed]",
            "text/plain": [
              "<Figure size 432x288 with 1 Axes>"
            ]
          },
          "metadata": {
            "tags": [],
            "needs_background": "light"
          }
        },
        {
          "output_type": "display_data",
          "data": {
            "image/png": "[encoded data removed]",
            "text/plain": [
              "<Figure size 432x288 with 1 Axes>"
            ]
          },
          "metadata": {
            "tags": [],
            "needs_background": "light"
          }
        },
        {
          "output_type": "display_data",
          "data": {
            "image/png": "[encoded data removed]",
            "text/plain": [
              "<Figure size 432x288 with 1 Axes>"
            ]
          },
          "metadata": {
            "tags": [],
            "needs_background": "light"
          }
        }
      ]
    },
    {
      "cell_type": "markdown",
      "metadata": {
        "id": "O2IgOXfy1PKn"
      },
      "source": [
        "### 상관관계 분석"
      ]
    },
    {
      "cell_type": "code",
      "metadata": {
        "colab": {
          "base_uri": "https://localhost:8080/",
          "height": 419
        },
        "id": "3A6bNk_bf4CC",
        "outputId": "ff3a89bb-c1cf-4912-a974-7933b8d7a8a9"
      },
      "source": [
        "tempdf = df[['매출', '순매출', '수량', '평균소비자가', '할인율', 'Stores', 'SKU']]\r\n",
        "tempdf"
      ],
      "execution_count": 6,
      "outputs": [
        {
          "output_type": "execute_result",
          "data": {
            "text/html": [
              "<div>\n",
              "<style scoped>\n",
              "    .dataframe tbody tr th:only-of-type {\n",
              "        vertical-align: middle;\n",
              "    }\n",
              "\n",
              "    .dataframe tbody tr th {\n",
              "        vertical-align: top;\n",
              "    }\n",
              "\n",
              "    .dataframe thead th {\n",
              "        text-align: right;\n",
              "    }\n",
              "</style>\n",
              "<table border=\"1\" class=\"dataframe\">\n",
              "  <thead>\n",
              "    <tr style=\"text-align: right;\">\n",
              "      <th></th>\n",
              "      <th>매출</th>\n",
              "      <th>순매출</th>\n",
              "      <th>수량</th>\n",
              "      <th>평균소비자가</th>\n",
              "      <th>할인율</th>\n",
              "      <th>Stores</th>\n",
              "      <th>SKU</th>\n",
              "    </tr>\n",
              "  </thead>\n",
              "  <tbody>\n",
              "    <tr>\n",
              "      <th>0</th>\n",
              "      <td>2502000</td>\n",
              "      <td>2383400</td>\n",
              "      <td>18</td>\n",
              "      <td>139000.00</td>\n",
              "      <td>0.05</td>\n",
              "      <td>48</td>\n",
              "      <td>4</td>\n",
              "    </tr>\n",
              "    <tr>\n",
              "      <th>1</th>\n",
              "      <td>6086000</td>\n",
              "      <td>5984800</td>\n",
              "      <td>45</td>\n",
              "      <td>135244.44</td>\n",
              "      <td>0.02</td>\n",
              "      <td>48</td>\n",
              "      <td>8</td>\n",
              "    </tr>\n",
              "    <tr>\n",
              "      <th>2</th>\n",
              "      <td>12778000</td>\n",
              "      <td>12510600</td>\n",
              "      <td>92</td>\n",
              "      <td>138891.30</td>\n",
              "      <td>0.02</td>\n",
              "      <td>48</td>\n",
              "      <td>8</td>\n",
              "    </tr>\n",
              "    <tr>\n",
              "      <th>3</th>\n",
              "      <td>10842000</td>\n",
              "      <td>10631400</td>\n",
              "      <td>78</td>\n",
              "      <td>139000.00</td>\n",
              "      <td>0.02</td>\n",
              "      <td>48</td>\n",
              "      <td>7</td>\n",
              "    </tr>\n",
              "    <tr>\n",
              "      <th>4</th>\n",
              "      <td>5560000</td>\n",
              "      <td>5522100</td>\n",
              "      <td>41</td>\n",
              "      <td>135609.76</td>\n",
              "      <td>0.01</td>\n",
              "      <td>48</td>\n",
              "      <td>7</td>\n",
              "    </tr>\n",
              "    <tr>\n",
              "      <th>...</th>\n",
              "      <td>...</td>\n",
              "      <td>...</td>\n",
              "      <td>...</td>\n",
              "      <td>...</td>\n",
              "      <td>...</td>\n",
              "      <td>...</td>\n",
              "      <td>...</td>\n",
              "    </tr>\n",
              "    <tr>\n",
              "      <th>939</th>\n",
              "      <td>3755000</td>\n",
              "      <td>3432600</td>\n",
              "      <td>25</td>\n",
              "      <td>150200.00</td>\n",
              "      <td>0.09</td>\n",
              "      <td>42</td>\n",
              "      <td>13</td>\n",
              "    </tr>\n",
              "    <tr>\n",
              "      <th>940</th>\n",
              "      <td>7799000</td>\n",
              "      <td>7174700</td>\n",
              "      <td>52</td>\n",
              "      <td>149980.77</td>\n",
              "      <td>0.08</td>\n",
              "      <td>42</td>\n",
              "      <td>17</td>\n",
              "    </tr>\n",
              "    <tr>\n",
              "      <th>941</th>\n",
              "      <td>11227900</td>\n",
              "      <td>10488900</td>\n",
              "      <td>75</td>\n",
              "      <td>149705.33</td>\n",
              "      <td>0.07</td>\n",
              "      <td>42</td>\n",
              "      <td>19</td>\n",
              "    </tr>\n",
              "    <tr>\n",
              "      <th>942</th>\n",
              "      <td>5672000</td>\n",
              "      <td>5313000</td>\n",
              "      <td>38</td>\n",
              "      <td>149263.16</td>\n",
              "      <td>0.06</td>\n",
              "      <td>42</td>\n",
              "      <td>16</td>\n",
              "    </tr>\n",
              "    <tr>\n",
              "      <th>943</th>\n",
              "      <td>6846000</td>\n",
              "      <td>6307600</td>\n",
              "      <td>44</td>\n",
              "      <td>155590.91</td>\n",
              "      <td>0.08</td>\n",
              "      <td>42</td>\n",
              "      <td>17</td>\n",
              "    </tr>\n",
              "  </tbody>\n",
              "</table>\n",
              "<p>944 rows × 7 columns</p>\n",
              "</div>"
            ],
            "text/plain": [
              "           매출       순매출  수량     평균소비자가   할인율  Stores  SKU\n",
              "0     2502000   2383400  18  139000.00  0.05      48    4\n",
              "1     6086000   5984800  45  135244.44  0.02      48    8\n",
              "2    12778000  12510600  92  138891.30  0.02      48    8\n",
              "3    10842000  10631400  78  139000.00  0.02      48    7\n",
              "4     5560000   5522100  41  135609.76  0.01      48    7\n",
              "..        ...       ...  ..        ...   ...     ...  ...\n",
              "939   3755000   3432600  25  150200.00  0.09      42   13\n",
              "940   7799000   7174700  52  149980.77  0.08      42   17\n",
              "941  11227900  10488900  75  149705.33  0.07      42   19\n",
              "942   5672000   5313000  38  149263.16  0.06      42   16\n",
              "943   6846000   6307600  44  155590.91  0.08      42   17\n",
              "\n",
              "[944 rows x 7 columns]"
            ]
          },
          "metadata": {
            "tags": []
          },
          "execution_count": 6
        }
      ]
    },
    {
      "cell_type": "code",
      "metadata": {
        "colab": {
          "base_uri": "https://localhost:8080/",
          "height": 326
        },
        "id": "dr1RWlJ0guLr",
        "outputId": "3efe693e-d152-46e2-decc-0a18bbb56162"
      },
      "source": [
        "%matplotlib inline\r\n",
        "sns.heatmap(df.corr())\r\n",
        "plt.show()"
      ],
      "execution_count": 33,
      "outputs": [
        {
          "output_type": "display_data",
          "data": {
            "image/png": "[encoded data removed]",
            "text/plain": [
              "<Figure size 432x288 with 2 Axes>"
            ]
          },
          "metadata": {
            "tags": [],
            "needs_background": "light"
          }
        }
      ]
    },
    {
      "cell_type": "markdown",
      "metadata": {
        "id": "RM4qunXGg80y"
      },
      "source": [
        "### 연도별 Sales Value 기술통계"
      ]
    },
    {
      "cell_type": "code",
      "metadata": {
        "colab": {
          "base_uri": "https://localhost:8080/",
          "height": 297
        },
        "id": "Pi6A3qLs1kh3",
        "outputId": "2af9cadd-5124-4a42-d76e-69badc41f427"
      },
      "source": [
        "df.loc[df['YY']=='2017'].describe()"
      ],
      "execution_count": 65,
      "outputs": [
        {
          "output_type": "execute_result",
          "data": {
            "text/html": [
              "<div>\n",
              "<style scoped>\n",
              "    .dataframe tbody tr th:only-of-type {\n",
              "        vertical-align: middle;\n",
              "    }\n",
              "\n",
              "    .dataframe tbody tr th {\n",
              "        vertical-align: top;\n",
              "    }\n",
              "\n",
              "    .dataframe thead th {\n",
              "        text-align: right;\n",
              "    }\n",
              "</style>\n",
              "<table border=\"1\" class=\"dataframe\">\n",
              "  <thead>\n",
              "    <tr style=\"text-align: right;\">\n",
              "      <th></th>\n",
              "      <th>Sales</th>\n",
              "      <th>NetSales</th>\n",
              "      <th>Amount</th>\n",
              "      <th>MeanSales</th>\n",
              "      <th>DiscountRate</th>\n",
              "      <th>Stores</th>\n",
              "      <th>SKU</th>\n",
              "    </tr>\n",
              "  </thead>\n",
              "  <tbody>\n",
              "    <tr>\n",
              "      <th>count</th>\n",
              "      <td>214.00</td>\n",
              "      <td>214.00</td>\n",
              "      <td>214.00</td>\n",
              "      <td>214.00</td>\n",
              "      <td>214.00</td>\n",
              "      <td>214.00</td>\n",
              "      <td>214.00</td>\n",
              "    </tr>\n",
              "    <tr>\n",
              "      <th>mean</th>\n",
              "      <td>9570067.76</td>\n",
              "      <td>8955224.77</td>\n",
              "      <td>67.72</td>\n",
              "      <td>141101.54</td>\n",
              "      <td>0.06</td>\n",
              "      <td>47.98</td>\n",
              "      <td>9.69</td>\n",
              "    </tr>\n",
              "    <tr>\n",
              "      <th>std</th>\n",
              "      <td>5018895.08</td>\n",
              "      <td>4713668.44</td>\n",
              "      <td>35.10</td>\n",
              "      <td>4120.43</td>\n",
              "      <td>0.04</td>\n",
              "      <td>2.68</td>\n",
              "      <td>2.13</td>\n",
              "    </tr>\n",
              "    <tr>\n",
              "      <th>min</th>\n",
              "      <td>2403000.00</td>\n",
              "      <td>2357200.00</td>\n",
              "      <td>17.00</td>\n",
              "      <td>132642.86</td>\n",
              "      <td>0.00</td>\n",
              "      <td>43.00</td>\n",
              "      <td>4.00</td>\n",
              "    </tr>\n",
              "    <tr>\n",
              "      <th>25%</th>\n",
              "      <td>5699000.00</td>\n",
              "      <td>5365675.00</td>\n",
              "      <td>41.00</td>\n",
              "      <td>139000.00</td>\n",
              "      <td>0.04</td>\n",
              "      <td>46.00</td>\n",
              "      <td>8.00</td>\n",
              "    </tr>\n",
              "    <tr>\n",
              "      <th>50%</th>\n",
              "      <td>8342000.00</td>\n",
              "      <td>7627250.00</td>\n",
              "      <td>58.50</td>\n",
              "      <td>139000.00</td>\n",
              "      <td>0.06</td>\n",
              "      <td>48.00</td>\n",
              "      <td>10.00</td>\n",
              "    </tr>\n",
              "    <tr>\n",
              "      <th>75%</th>\n",
              "      <td>12371000.00</td>\n",
              "      <td>11630925.00</td>\n",
              "      <td>89.00</td>\n",
              "      <td>144081.63</td>\n",
              "      <td>0.08</td>\n",
              "      <td>50.00</td>\n",
              "      <td>11.00</td>\n",
              "    </tr>\n",
              "    <tr>\n",
              "      <th>max</th>\n",
              "      <td>23898000.00</td>\n",
              "      <td>22708600.00</td>\n",
              "      <td>172.00</td>\n",
              "      <td>152469.39</td>\n",
              "      <td>0.33</td>\n",
              "      <td>52.00</td>\n",
              "      <td>17.00</td>\n",
              "    </tr>\n",
              "  </tbody>\n",
              "</table>\n",
              "</div>"
            ],
            "text/plain": [
              "            Sales    NetSales  Amount  MeanSales  DiscountRate  Stores    SKU\n",
              "count      214.00      214.00  214.00     214.00        214.00  214.00 214.00\n",
              "mean   9570067.76  8955224.77   67.72  141101.54          0.06   47.98   9.69\n",
              "std    5018895.08  4713668.44   35.10    4120.43          0.04    2.68   2.13\n",
              "min    2403000.00  2357200.00   17.00  132642.86          0.00   43.00   4.00\n",
              "25%    5699000.00  5365675.00   41.00  139000.00          0.04   46.00   8.00\n",
              "50%    8342000.00  7627250.00   58.50  139000.00          0.06   48.00  10.00\n",
              "75%   12371000.00 11630925.00   89.00  144081.63          0.08   50.00  11.00\n",
              "max   23898000.00 22708600.00  172.00  152469.39          0.33   52.00  17.00"
            ]
          },
          "metadata": {
            "tags": []
          },
          "execution_count": 65
        }
      ]
    },
    {
      "cell_type": "code",
      "metadata": {
        "colab": {
          "base_uri": "https://localhost:8080/",
          "height": 297
        },
        "id": "lPvr2oi81mai",
        "outputId": "50b95809-a707-49d9-c117-8c7ea82ec4b8"
      },
      "source": [
        "df.loc[df['YY']=='2018'].describe()"
      ],
      "execution_count": 66,
      "outputs": [
        {
          "output_type": "execute_result",
          "data": {
            "text/html": [
              "<div>\n",
              "<style scoped>\n",
              "    .dataframe tbody tr th:only-of-type {\n",
              "        vertical-align: middle;\n",
              "    }\n",
              "\n",
              "    .dataframe tbody tr th {\n",
              "        vertical-align: top;\n",
              "    }\n",
              "\n",
              "    .dataframe thead th {\n",
              "        text-align: right;\n",
              "    }\n",
              "</style>\n",
              "<table border=\"1\" class=\"dataframe\">\n",
              "  <thead>\n",
              "    <tr style=\"text-align: right;\">\n",
              "      <th></th>\n",
              "      <th>Sales</th>\n",
              "      <th>NetSales</th>\n",
              "      <th>Amount</th>\n",
              "      <th>MeanSales</th>\n",
              "      <th>DiscountRate</th>\n",
              "      <th>Stores</th>\n",
              "      <th>SKU</th>\n",
              "    </tr>\n",
              "  </thead>\n",
              "  <tbody>\n",
              "    <tr>\n",
              "      <th>count</th>\n",
              "      <td>365.00</td>\n",
              "      <td>365.00</td>\n",
              "      <td>365.00</td>\n",
              "      <td>365.00</td>\n",
              "      <td>365.00</td>\n",
              "      <td>365.00</td>\n",
              "      <td>365.00</td>\n",
              "    </tr>\n",
              "    <tr>\n",
              "      <th>mean</th>\n",
              "      <td>8530174.25</td>\n",
              "      <td>7567555.01</td>\n",
              "      <td>59.45</td>\n",
              "      <td>142835.28</td>\n",
              "      <td>0.12</td>\n",
              "      <td>46.68</td>\n",
              "      <td>13.15</td>\n",
              "    </tr>\n",
              "    <tr>\n",
              "      <th>std</th>\n",
              "      <td>5320772.38</td>\n",
              "      <td>4610200.81</td>\n",
              "      <td>36.84</td>\n",
              "      <td>6287.28</td>\n",
              "      <td>0.08</td>\n",
              "      <td>7.02</td>\n",
              "      <td>4.79</td>\n",
              "    </tr>\n",
              "    <tr>\n",
              "      <th>min</th>\n",
              "      <td>556000.00</td>\n",
              "      <td>486500.00</td>\n",
              "      <td>4.00</td>\n",
              "      <td>131131.58</td>\n",
              "      <td>0.00</td>\n",
              "      <td>28.00</td>\n",
              "      <td>2.00</td>\n",
              "    </tr>\n",
              "    <tr>\n",
              "      <th>25%</th>\n",
              "      <td>4830000.00</td>\n",
              "      <td>4424200.00</td>\n",
              "      <td>34.00</td>\n",
              "      <td>139000.00</td>\n",
              "      <td>0.05</td>\n",
              "      <td>45.00</td>\n",
              "      <td>10.00</td>\n",
              "    </tr>\n",
              "    <tr>\n",
              "      <th>50%</th>\n",
              "      <td>7212000.00</td>\n",
              "      <td>6392500.00</td>\n",
              "      <td>50.00</td>\n",
              "      <td>140052.63</td>\n",
              "      <td>0.10</td>\n",
              "      <td>47.00</td>\n",
              "      <td>13.00</td>\n",
              "    </tr>\n",
              "    <tr>\n",
              "      <th>75%</th>\n",
              "      <td>11249000.00</td>\n",
              "      <td>10319400.00</td>\n",
              "      <td>77.00</td>\n",
              "      <td>145557.38</td>\n",
              "      <td>0.16</td>\n",
              "      <td>49.00</td>\n",
              "      <td>16.00</td>\n",
              "    </tr>\n",
              "    <tr>\n",
              "      <th>max</th>\n",
              "      <td>37391000.00</td>\n",
              "      <td>24305580.00</td>\n",
              "      <td>269.00</td>\n",
              "      <td>164225.23</td>\n",
              "      <td>0.60</td>\n",
              "      <td>56.00</td>\n",
              "      <td>28.00</td>\n",
              "    </tr>\n",
              "  </tbody>\n",
              "</table>\n",
              "</div>"
            ],
            "text/plain": [
              "            Sales    NetSales  Amount  MeanSales  DiscountRate  Stores    SKU\n",
              "count      365.00      365.00  365.00     365.00        365.00  365.00 365.00\n",
              "mean   8530174.25  7567555.01   59.45  142835.28          0.12   46.68  13.15\n",
              "std    5320772.38  4610200.81   36.84    6287.28          0.08    7.02   4.79\n",
              "min     556000.00   486500.00    4.00  131131.58          0.00   28.00   2.00\n",
              "25%    4830000.00  4424200.00   34.00  139000.00          0.05   45.00  10.00\n",
              "50%    7212000.00  6392500.00   50.00  140052.63          0.10   47.00  13.00\n",
              "75%   11249000.00 10319400.00   77.00  145557.38          0.16   49.00  16.00\n",
              "max   37391000.00 24305580.00  269.00  164225.23          0.60   56.00  28.00"
            ]
          },
          "metadata": {
            "tags": []
          },
          "execution_count": 66
        }
      ]
    },
    {
      "cell_type": "code",
      "metadata": {
        "colab": {
          "base_uri": "https://localhost:8080/",
          "height": 297
        },
        "id": "_qUuGtmC2G4i",
        "outputId": "30afd72b-0f74-479b-d17f-9a61259beec9"
      },
      "source": [
        "df.loc[df['YY']=='2019'].describe()"
      ],
      "execution_count": 67,
      "outputs": [
        {
          "output_type": "execute_result",
          "data": {
            "text/html": [
              "<div>\n",
              "<style scoped>\n",
              "    .dataframe tbody tr th:only-of-type {\n",
              "        vertical-align: middle;\n",
              "    }\n",
              "\n",
              "    .dataframe tbody tr th {\n",
              "        vertical-align: top;\n",
              "    }\n",
              "\n",
              "    .dataframe thead th {\n",
              "        text-align: right;\n",
              "    }\n",
              "</style>\n",
              "<table border=\"1\" class=\"dataframe\">\n",
              "  <thead>\n",
              "    <tr style=\"text-align: right;\">\n",
              "      <th></th>\n",
              "      <th>Sales</th>\n",
              "      <th>NetSales</th>\n",
              "      <th>Amount</th>\n",
              "      <th>MeanSales</th>\n",
              "      <th>DiscountRate</th>\n",
              "      <th>Stores</th>\n",
              "      <th>SKU</th>\n",
              "    </tr>\n",
              "  </thead>\n",
              "  <tbody>\n",
              "    <tr>\n",
              "      <th>count</th>\n",
              "      <td>365.00</td>\n",
              "      <td>365.00</td>\n",
              "      <td>365.00</td>\n",
              "      <td>365.00</td>\n",
              "      <td>365.00</td>\n",
              "      <td>365.00</td>\n",
              "      <td>365.00</td>\n",
              "    </tr>\n",
              "    <tr>\n",
              "      <th>mean</th>\n",
              "      <td>7604292.88</td>\n",
              "      <td>6990170.14</td>\n",
              "      <td>49.40</td>\n",
              "      <td>154750.50</td>\n",
              "      <td>0.09</td>\n",
              "      <td>43.81</td>\n",
              "      <td>14.87</td>\n",
              "    </tr>\n",
              "    <tr>\n",
              "      <th>std</th>\n",
              "      <td>4383312.22</td>\n",
              "      <td>4106094.61</td>\n",
              "      <td>28.55</td>\n",
              "      <td>9909.82</td>\n",
              "      <td>0.08</td>\n",
              "      <td>5.52</td>\n",
              "      <td>3.88</td>\n",
              "    </tr>\n",
              "    <tr>\n",
              "      <th>min</th>\n",
              "      <td>219000.00</td>\n",
              "      <td>163400.00</td>\n",
              "      <td>1.00</td>\n",
              "      <td>124250.00</td>\n",
              "      <td>0.00</td>\n",
              "      <td>30.00</td>\n",
              "      <td>4.00</td>\n",
              "    </tr>\n",
              "    <tr>\n",
              "      <th>25%</th>\n",
              "      <td>4668000.00</td>\n",
              "      <td>4169800.00</td>\n",
              "      <td>30.00</td>\n",
              "      <td>148705.88</td>\n",
              "      <td>0.04</td>\n",
              "      <td>42.00</td>\n",
              "      <td>12.00</td>\n",
              "    </tr>\n",
              "    <tr>\n",
              "      <th>50%</th>\n",
              "      <td>6459000.00</td>\n",
              "      <td>6048600.00</td>\n",
              "      <td>43.00</td>\n",
              "      <td>153651.16</td>\n",
              "      <td>0.07</td>\n",
              "      <td>45.00</td>\n",
              "      <td>15.00</td>\n",
              "    </tr>\n",
              "    <tr>\n",
              "      <th>75%</th>\n",
              "      <td>9379000.00</td>\n",
              "      <td>8743800.00</td>\n",
              "      <td>61.00</td>\n",
              "      <td>159444.44</td>\n",
              "      <td>0.12</td>\n",
              "      <td>46.00</td>\n",
              "      <td>17.00</td>\n",
              "    </tr>\n",
              "    <tr>\n",
              "      <th>max</th>\n",
              "      <td>27512000.00</td>\n",
              "      <td>25800000.00</td>\n",
              "      <td>178.00</td>\n",
              "      <td>219000.00</td>\n",
              "      <td>0.65</td>\n",
              "      <td>50.00</td>\n",
              "      <td>30.00</td>\n",
              "    </tr>\n",
              "  </tbody>\n",
              "</table>\n",
              "</div>"
            ],
            "text/plain": [
              "            Sales    NetSales  Amount  MeanSales  DiscountRate  Stores    SKU\n",
              "count      365.00      365.00  365.00     365.00        365.00  365.00 365.00\n",
              "mean   7604292.88  6990170.14   49.40  154750.50          0.09   43.81  14.87\n",
              "std    4383312.22  4106094.61   28.55    9909.82          0.08    5.52   3.88\n",
              "min     219000.00   163400.00    1.00  124250.00          0.00   30.00   4.00\n",
              "25%    4668000.00  4169800.00   30.00  148705.88          0.04   42.00  12.00\n",
              "50%    6459000.00  6048600.00   43.00  153651.16          0.07   45.00  15.00\n",
              "75%    9379000.00  8743800.00   61.00  159444.44          0.12   46.00  17.00\n",
              "max   27512000.00 25800000.00  178.00  219000.00          0.65   50.00  30.00"
            ]
          },
          "metadata": {
            "tags": []
          },
          "execution_count": 67
        }
      ]
    },
    {
      "cell_type": "code",
      "metadata": {
        "colab": {
          "base_uri": "https://localhost:8080/",
          "height": 1000
        },
        "id": "8GHzuA4T2OVi",
        "outputId": "6cceda86-99c7-4356-b444-3e217ee112c9"
      },
      "source": [
        "tlst =['Sales', 'NetSales', 'MeanSales', 'Amount', 'Stores', 'DiscountRate', 'SKU']\r\n",
        "plt.figure(figsize=(9,20))\r\n",
        "for i in range(len(tlst)):\r\n",
        "  plt.subplot(4,2,i+1)\r\n",
        "  sns.boxplot(data=df, x='YY', y=tptxt)\r\n",
        "\r\n",
        "plt.show()"
      ],
      "execution_count": 82,
      "outputs": [
        {
          "output_type": "display_data",
          "data": {
            "image/png": "[encoded data removed]",
            "text/plain": [
              "<Figure size 648x1440 with 7 Axes>"
            ]
          },
          "metadata": {
            "tags": [],
            "needs_background": "light"
          }
        }
      ]
    },
    {
      "cell_type": "code",
      "metadata": {
        "id": "KhG46lxYGCTT"
      },
      "source": [
        ""
      ],
      "execution_count": null,
      "outputs": []
    }
  ]
}